{
 "cells": [
  {
   "cell_type": "code",
   "execution_count": 16,
   "metadata": {
    "colab": {
     "base_uri": "https://localhost:8080/"
    },
    "executionInfo": {
     "elapsed": 277,
     "status": "ok",
     "timestamp": 1651109428335,
     "user": {
      "displayName": "Kim-Ngoc Thi Le",
      "userId": "07740631987100063646"
     },
     "user_tz": -540
    },
    "id": "NElhQlcM-IU7",
    "outputId": "8893a7c5-2bf7-442a-a7fa-d5f374e402a9"
   },
   "outputs": [
    {
     "name": "stdout",
     "output_type": "stream",
     "text": [
      "True\n",
      "True\n",
      "True\n"
     ]
    }
   ],
   "source": [
    "import os\n",
    "Path =  \".//CODE//data//\"\n",
    "SubPath1 =  \".//CODE//data//train\"\n",
    "SubPath2 =  \".//CODE//data//test\"\n",
    "print(os.path.isdir(Path))\n",
    "print(os.path.isdir(SubPath1))\n",
    "print(os.path.isdir(SubPath2))"
   ]
  },
  {
   "cell_type": "code",
   "execution_count": 19,
   "metadata": {
    "executionInfo": {
     "elapsed": 279,
     "status": "ok",
     "timestamp": 1651109437740,
     "user": {
      "displayName": "Kim-Ngoc Thi Le",
      "userId": "07740631987100063646"
     },
     "user_tz": -540
    },
    "id": "KgMC8xaqr8l_"
   },
   "outputs": [],
   "source": [
    "import pandas as pd\n",
    "import numpy as np\n",
    "# matplotlib inline\n",
    "import matplotlib.image as mpimg\n",
    "import matplotlib.pyplot as plt\n",
    "import tensorflow as tf"
   ]
  },
  {
   "cell_type": "code",
   "execution_count": 20,
   "metadata": {
    "colab": {
     "base_uri": "https://localhost:8080/"
    },
    "executionInfo": {
     "elapsed": 988,
     "status": "ok",
     "timestamp": 1651109441392,
     "user": {
      "displayName": "Kim-Ngoc Thi Le",
      "userId": "07740631987100063646"
     },
     "user_tz": -540
    },
    "id": "UzmFdngpxgCD",
    "outputId": "7d7a70cb-9ae3-4df3-b2af-831081f40bc9"
   },
   "outputs": [
    {
     "name": "stdout",
     "output_type": "stream",
     "text": [
      "Model: \"sequential_2\"\n",
      "_________________________________________________________________\n",
      " Layer (type)                Output Shape              Param #   \n",
      "=================================================================\n",
      " vgg19 (Functional)          (None, 7, 7, 512)         20024384  \n",
      "                                                                 \n",
      " flatten_2 (Flatten)         (None, 25088)             0         \n",
      "                                                                 \n",
      " dense_4 (Dense)             (None, 64)                1605696   \n",
      "                                                                 \n",
      " dropout_2 (Dropout)         (None, 64)                0         \n",
      "                                                                 \n",
      " dense_5 (Dense)             (None, 3)                 195       \n",
      "                                                                 \n",
      "=================================================================\n",
      "Total params: 21,630,275\n",
      "Trainable params: 1,605,891\n",
      "Non-trainable params: 20,024,384\n",
      "_________________________________________________________________\n"
     ]
    }
   ],
   "source": [
    "vgg19 = tf.keras.applications.vgg19\n",
    "#vgg = vgg19.VGG19(weights='imagenet')\n",
    "vgg = vgg19.VGG19(weights='imagenet', include_top=False,input_shape=(224,224,3))\n",
    "model = tf.keras.models.Sequential([\n",
    "    vgg,\n",
    "    tf.keras.layers.Flatten(), \n",
    "    tf.keras.layers.Dense(64,activation=\"relu\"),      #Adding the Hidden layer\n",
    "    tf.keras.layers.Dropout(0.1),\n",
    "    tf.keras.layers.Dense(3,activation = \"softmax\")   #Adding the Output Layer\n",
    "])\n",
    "for layer in vgg.layers:\n",
    "    layer.trainable = False\n",
    "model.summary()\n"
   ]
  },
  {
   "cell_type": "code",
   "execution_count": 21,
   "metadata": {
    "colab": {
     "base_uri": "https://localhost:8080/"
    },
    "executionInfo": {
     "elapsed": 289,
     "status": "ok",
     "timestamp": 1651109445271,
     "user": {
      "displayName": "Kim-Ngoc Thi Le",
      "userId": "07740631987100063646"
     },
     "user_tz": -540
    },
    "id": "D4oB2-PmkJqU",
    "outputId": "2b0accd6-4fb5-47fd-84b7-9caeaeb1d5a3"
   },
   "outputs": [],
   "source": [
    "from tensorflow.keras.optimizers import RMSprop,SGD,Adam\n",
    "adam=Adam(lr=0.001)\n",
    "model.compile(optimizer='adam', loss='categorical_crossentropy', metrics = ['acc'])"
   ]
  },
  {
   "cell_type": "code",
   "execution_count": 22,
   "metadata": {
    "colab": {
     "base_uri": "https://localhost:8080/"
    },
    "executionInfo": {
     "elapsed": 963,
     "status": "ok",
     "timestamp": 1651109449006,
     "user": {
      "displayName": "Kim-Ngoc Thi Le",
      "userId": "07740631987100063646"
     },
     "user_tz": -540
    },
    "id": "J66x4_2hy1VK",
    "outputId": "0c51a304-64cf-4a49-b75a-f62e298a5237"
   },
   "outputs": [
    {
     "name": "stdout",
     "output_type": "stream",
     "text": [
      "Found 4116 images belonging to 3 classes.\n",
      "Found 1028 images belonging to 3 classes.\n"
     ]
    }
   ],
   "source": [
    "bs=30         #Setting batch size\n",
    "train_dir = SubPath1   #Setting training directory\n",
    "test_dir = SubPath2   #Setting testing directory\n",
    "from tensorflow.keras.preprocessing.image import ImageDataGenerator \n",
    "# All images will be rescaled by 1./255.\n",
    "train_datagen = ImageDataGenerator( rescale = 1.0/255.,validation_split=0.2)\n",
    "train_generator=train_datagen.flow_from_directory(train_dir,batch_size=bs,class_mode='categorical',target_size=(224,224),subset='training')\n",
    "validation_generator=train_datagen.flow_from_directory(train_dir,batch_size=bs,class_mode='categorical',target_size=(224,224),subset='validation')\n"
   ]
  },
  {
   "cell_type": "code",
   "execution_count": 23,
   "metadata": {
    "colab": {
     "background_save": true,
     "base_uri": "https://localhost:8080/"
    },
    "id": "DwwX3yPT4Al9"
   },
   "outputs": [
    {
     "name": "stderr",
     "output_type": "stream",
     "text": [
      "C:\\Users\\Kim-Ngoc\\AppData\\Local\\Temp\\ipykernel_4580\\1716554780.py:5: UserWarning: `Model.fit_generator` is deprecated and will be removed in a future version. Please use `Model.fit`, which supports generators.\n",
      "  trainedmodel = model.fit_generator(train_generator,\n"
     ]
    },
    {
     "name": "stdout",
     "output_type": "stream",
     "text": [
      "Epoch 1/20\n",
      "137/137 [==============================] - 41s 287ms/step - loss: 0.5121 - acc: 0.8480 - val_loss: 0.1668 - val_acc: 0.9569\n",
      "Epoch 2/20\n",
      "137/137 [==============================] - 42s 309ms/step - loss: 0.1761 - acc: 0.9398 - val_loss: 0.1349 - val_acc: 0.9588\n",
      "Epoch 3/20\n",
      "137/137 [==============================] - 41s 297ms/step - loss: 0.1505 - acc: 0.9430 - val_loss: 0.1463 - val_acc: 0.9549\n",
      "Epoch 4/20\n",
      "137/137 [==============================] - 42s 307ms/step - loss: 0.1200 - acc: 0.9513 - val_loss: 0.1189 - val_acc: 0.9608\n",
      "Epoch 5/20\n",
      "137/137 [==============================] - 42s 308ms/step - loss: 0.1114 - acc: 0.9574 - val_loss: 0.1137 - val_acc: 0.9627\n",
      "Epoch 6/20\n",
      "137/137 [==============================] - 41s 300ms/step - loss: 0.0873 - acc: 0.9719 - val_loss: 0.1191 - val_acc: 0.9647\n",
      "Epoch 7/20\n",
      "137/137 [==============================] - 38s 276ms/step - loss: 0.0783 - acc: 0.9716 - val_loss: 0.1356 - val_acc: 0.9598\n",
      "Epoch 8/20\n",
      "137/137 [==============================] - 39s 286ms/step - loss: 0.0761 - acc: 0.9721 - val_loss: 0.1418 - val_acc: 0.9637\n",
      "Epoch 9/20\n",
      "137/137 [==============================] - 42s 303ms/step - loss: 0.0766 - acc: 0.9711 - val_loss: 0.1300 - val_acc: 0.9608\n",
      "Epoch 10/20\n",
      "137/137 [==============================] - 41s 301ms/step - loss: 0.0524 - acc: 0.9807 - val_loss: 0.1432 - val_acc: 0.9627\n",
      "Epoch 11/20\n",
      "137/137 [==============================] - 38s 278ms/step - loss: 0.0573 - acc: 0.9797 - val_loss: 0.1665 - val_acc: 0.9549\n",
      "Epoch 12/20\n",
      "137/137 [==============================] - 38s 272ms/step - loss: 0.0443 - acc: 0.9873 - val_loss: 0.1465 - val_acc: 0.9627\n",
      "Epoch 13/20\n",
      "137/137 [==============================] - 39s 282ms/step - loss: 0.0474 - acc: 0.9829 - val_loss: 0.1387 - val_acc: 0.9618\n",
      "Epoch 14/20\n",
      "137/137 [==============================] - 41s 300ms/step - loss: 0.0409 - acc: 0.9868 - val_loss: 0.1759 - val_acc: 0.9598\n",
      "Epoch 15/20\n",
      "137/137 [==============================] - 40s 292ms/step - loss: 0.0423 - acc: 0.9856 - val_loss: 0.1536 - val_acc: 0.9667\n",
      "Epoch 16/20\n",
      "137/137 [==============================] - 39s 286ms/step - loss: 0.0408 - acc: 0.9838 - val_loss: 0.1400 - val_acc: 0.9667\n",
      "Epoch 17/20\n",
      "137/137 [==============================] - 40s 288ms/step - loss: 0.0357 - acc: 0.9875 - val_loss: 0.1838 - val_acc: 0.9608\n",
      "Epoch 18/20\n",
      "137/137 [==============================] - 39s 282ms/step - loss: 0.0352 - acc: 0.9863 - val_loss: 0.1345 - val_acc: 0.9618\n",
      "Epoch 19/20\n",
      "137/137 [==============================] - 38s 280ms/step - loss: 0.0260 - acc: 0.9907 - val_loss: 0.1728 - val_acc: 0.9696\n",
      "Epoch 20/20\n",
      "137/137 [==============================] - 38s 277ms/step - loss: 0.0185 - acc: 0.9949 - val_loss: 0.1652 - val_acc: 0.9647\n",
      "Runtime of the program is 799.9738147258759\n"
     ]
    }
   ],
   "source": [
    "import time\n",
    "# starting time\n",
    "start = time.time()\n",
    "\n",
    "trainedmodel = model.fit_generator(train_generator,\n",
    "                            steps_per_epoch = train_generator.samples // bs,\n",
    "                            validation_data = validation_generator, \n",
    "                            validation_steps = validation_generator.samples // bs,\n",
    "                            epochs = 20)\n",
    "# end time\n",
    "end = time.time()\n",
    "# total time taken\n",
    "print(f\"Runtime of the program is {end - start}\")"
   ]
  },
  {
   "cell_type": "code",
   "execution_count": 25,
   "metadata": {
    "colab": {
     "base_uri": "https://localhost:8080/"
    },
    "executionInfo": {
     "elapsed": 1132,
     "status": "ok",
     "timestamp": 1636691428919,
     "user": {
      "displayName": "Thao nguyen trang",
      "photoUrl": "https://lh3.googleusercontent.com/a/default-user=s64",
      "userId": "16783219723192089524"
     },
     "user_tz": -420
    },
    "id": "KJsEb_3zHOEP",
    "outputId": "d09d7498-adf1-4d0f-ac58-012167c670f8"
   },
   "outputs": [
    {
     "name": "stdout",
     "output_type": "stream",
     "text": [
      "Model: \"sequential_2\"\n",
      "_________________________________________________________________\n",
      " Layer (type)                Output Shape              Param #   \n",
      "=================================================================\n",
      " vgg19 (Functional)          (None, 7, 7, 512)         20024384  \n",
      "                                                                 \n",
      " flatten_2 (Flatten)         (None, 25088)             0         \n",
      "                                                                 \n",
      " dense_4 (Dense)             (None, 64)                1605696   \n",
      "                                                                 \n",
      " dropout_2 (Dropout)         (None, 64)                0         \n",
      "                                                                 \n",
      " dense_5 (Dense)             (None, 3)                 195       \n",
      "                                                                 \n",
      "=================================================================\n",
      "Total params: 21,630,275\n",
      "Trainable params: 1,605,891\n",
      "Non-trainable params: 20,024,384\n",
      "_________________________________________________________________\n"
     ]
    }
   ],
   "source": [
    "# train 14mins\n",
    "model.save('transfer_model_ex1.h5')\n",
    "new_model = tf.keras.models.load_model('transfer_model_ex1.h5')\n",
    "new_model.summary()"
   ]
  },
  {
   "cell_type": "code",
   "execution_count": 26,
   "metadata": {
    "colab": {
     "base_uri": "https://localhost:8080/",
     "height": 545
    },
    "executionInfo": {
     "elapsed": 607,
     "status": "ok",
     "timestamp": 1637819389241,
     "user": {
      "displayName": "Ngoc Le Thi Kim",
      "photoUrl": "https://lh3.googleusercontent.com/a/default-user=s64",
      "userId": "07740631987100063646"
     },
     "user_tz": -420
    },
    "id": "cGdVadE7-0bl",
    "outputId": "0af5f2b1-e951-4474-b03c-7e40368da097"
   },
   "outputs": [
    {
     "data": {
      "image/png": "[encoded data removed]",
      "text/plain": [
       "<Figure size 432x288 with 1 Axes>"
      ]
     },
     "metadata": {
      "needs_background": "light"
     },
     "output_type": "display_data"
    },
    {
     "data": {
      "image/png": "[encoded data removed]",
      "text/plain": [
       "<Figure size 432x288 with 1 Axes>"
      ]
     },
     "metadata": {
      "needs_background": "light"
     },
     "output_type": "display_data"
    }
   ],
   "source": [
    "accuracy = trainedmodel.history['acc']\n",
    "val_accuracy = trainedmodel.history['val_acc']\n",
    "loss = trainedmodel.history['loss']\n",
    "val_loss = trainedmodel.history['val_loss']\n",
    "epochs = range(len(accuracy))\n",
    "plt.plot(epochs, accuracy, 'bo', label='Training accuracy')\n",
    "plt.plot(epochs, val_accuracy, 'b', label='Validation accuracy')\n",
    "plt.title('Training and validation accuracy')\n",
    "plt.legend()\n",
    "plt.figure()\n",
    "plt.plot(epochs, loss, 'bo', label='Training loss')\n",
    "plt.plot(epochs, val_loss, 'b', label='Validation loss')\n",
    "plt.title('Training and validation loss')\n",
    "plt.legend()\n",
    "plt.show()\n"
   ]
  },
  {
   "cell_type": "code",
   "execution_count": 27,
   "metadata": {
    "colab": {
     "base_uri": "https://localhost:8080/"
    },
    "executionInfo": {
     "elapsed": 74349,
     "status": "ok",
     "timestamp": 1637819471228,
     "user": {
      "displayName": "Ngoc Le Thi Kim",
      "photoUrl": "https://lh3.googleusercontent.com/a/default-user=s64",
      "userId": "07740631987100063646"
     },
     "user_tz": -420
    },
    "id": "j_3XlyM2B866",
    "outputId": "403048e9-c187-442b-ffd0-f0d7c569f3d3"
   },
   "outputs": [
    {
     "name": "stdout",
     "output_type": "stream",
     "text": [
      "Found 1288 images belonging to 3 classes.\n",
      "0.9448757763975155\n",
      "[2 0 0 ... 2 2 2]\n",
      "[0 0 0 ... 2 2 2]\n"
     ]
    }
   ],
   "source": [
    "test_dir = SubPath2   #Setting testing directory\n",
    "from tensorflow.keras.preprocessing.image import ImageDataGenerator \n",
    "# All images will be rescaled by 1./255.\n",
    "test_datagen = ImageDataGenerator( rescale = 1.0/255.)\n",
    "test_generator=test_datagen.flow_from_directory(test_dir,class_mode='categorical',target_size=(224,224),shuffle=False)\n",
    "test_generator.labels\n",
    "#test_eval = model.evaluate(test_generator, test_generator.labels, verbose=1)\n",
    "predicted_classes = model.predict(test_generator)\n",
    "predicted_classes1 = np.argmax(np.round(predicted_classes),axis=1)\n",
    "correct = np.where(predicted_classes1==test_generator.labels)[0]\n",
    "correct\n",
    "acc_test=len(correct)/len(test_generator.labels)\n",
    "print(acc_test)\n",
    "print(predicted_classes1)\n",
    "print(test_generator.labels)\n",
    "# 1"
   ]
  }
 ],
 "metadata": {
  "colab": {
   "collapsed_sections": [],
   "name": "Covid_3gr_vgg19.ipynb",
   "provenance": [
    {
     "file_id": "1tDwmx_E2q_zAeEvMV1guD2O9CKSe8BT1",
     "timestamp": 1651062157829
    },
    {
     "file_id": "14BT7PIV6uArMCF_GC2DRi27vWeGPYcqV",
     "timestamp": 1636679873064
    },
    {
     "file_id": "1cukhrUVMwfBggQIeFDyUcDYhrHxxv2qO",
     "timestamp": 1636593869825
    }
   ],
   "version": ""
  },
  "kernelspec": {
   "display_name": "Python 3.9.11 ('NewPc_environment-forPython')",
   "language": "python",
   "name": "python3"
  },
  "language_info": {
   "codemirror_mode": {
    "name": "ipython",
    "version": 3
   },
   "file_extension": ".py",
   "mimetype": "text/x-python",
   "name": "python",
   "nbconvert_exporter": "python",
   "pygments_lexer": "ipython3",
   "version": "3.9.11"
  },
  "vscode": {
   "interpreter": {
    "hash": "2e29d808fc193233c14b80131fac182e7aa5414c0637f1b553ed7d24740ef93a"
   }
  }
 },
 "nbformat": 4,
 "nbformat_minor": 4
}
